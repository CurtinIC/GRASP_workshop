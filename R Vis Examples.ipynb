{
 "cells": [
  {
   "cell_type": "markdown",
   "metadata": {},
   "source": [
    "Visualisation examples in R using the Iris dataset.\n",
    "\n",
    "To run a cell click the cursor into the cell and press shift + enter (or the run button in the tool bar above)\n",
    "\n",
    "If there is a little star next to ln, then the code is still executing. If it finished running a line number will appear:\n",
    "ln[\\*]\n"
   ]
  },
  {
   "cell_type": "code",
   "execution_count": null,
   "metadata": {},
   "outputs": [],
   "source": [
    "#Loading the required libraries and data\n",
    "library(ggplot2)\n",
    "\n",
    "df = datasets::iris\n",
    "head(df)"
   ]
  },
  {
   "cell_type": "code",
   "execution_count": null,
   "metadata": {},
   "outputs": [],
   "source": [
    "#scatterplot + points are coloured by a 3rd variable\n",
    "ggplot(df,aes(x=Petal.Length, y=Petal.Width)) + # setting up the data to be plotted, ie the base layer\n",
    "geom_point(aes(color=Species)) # adding the desired layer of how to plot the data\n"
   ]
  },
  {
   "cell_type": "code",
   "execution_count": null,
   "metadata": {},
   "outputs": [],
   "source": [
    "# facet your plot\n",
    "# simply add the col variable to specify by which variable you want to facet\n",
    "ggplot(df,aes(x=Petal.Length, y=Petal.Width)) + \n",
    "geom_point(aes(color=Species)) +\n",
    "facet_wrap(~Species) # adding the requirement to facet, when facetting by one variable use the tilde ~ plus the [variable name]"
   ]
  },
  {
   "cell_type": "code",
   "execution_count": null,
   "metadata": {},
   "outputs": [],
   "source": [
    "#distributions: boxplot\n",
    "ggplot(df,aes(x=Species,y=Petal.Width)) + \n",
    "geom_boxplot(aes(color=Species)) \n"
   ]
  },
  {
   "cell_type": "code",
   "execution_count": null,
   "metadata": {},
   "outputs": [],
   "source": [
    "#histograms\n",
    "ggplot(df,aes(x=Petal.Width)) + \n",
    "geom_histogram(aes(fill=Species), binwidth = 0.1) # instead of colour we use the fill variable. \n",
    "# colour will only colour the outline of the histogram, fill will fill the bars"
   ]
  },
  {
   "cell_type": "code",
   "execution_count": null,
   "metadata": {},
   "outputs": [],
   "source": [
    "# Making a pairplot to get a quick overview of correlations between the variables in your data\n",
    "# we need to load a new library that extends the ggplot2 functionality\n",
    "library(GGally)\n",
    "\n",
    "ggpairs(iris, aes(colour = Species, alpha = 0.4), lower=list(combo=wrap(\"facethist\", binwidth=0.1)))\n"
   ]
  },
  {
   "cell_type": "code",
   "execution_count": null,
   "metadata": {},
   "outputs": [],
   "source": [
    "# Pairplot example using the inbuilt (base) R plotting function pairs()\n",
    "# to use the pairs() function you will have to specify the colour of the points and the classes more explicetly than\n",
    "# you need to do with the ggpairs() function\n",
    "\n",
    "pairs(df[1:4], main = \"Iris Data - 3 species\", pch = 21, bg = c(\"red\", \"green3\", \"blue\")[unclass(df$Species)])\n"
   ]
  },
  {
   "cell_type": "code",
   "execution_count": null,
   "metadata": {},
   "outputs": [],
   "source": []
  }
 ],
 "metadata": {
  "kernelspec": {
   "display_name": "R",
   "language": "R",
   "name": "ir"
  },
  "language_info": {
   "codemirror_mode": "r",
   "file_extension": ".r",
   "mimetype": "text/x-r-source",
   "name": "R",
   "pygments_lexer": "r",
   "version": "3.4.4"
  }
 },
 "nbformat": 4,
 "nbformat_minor": 1
}
