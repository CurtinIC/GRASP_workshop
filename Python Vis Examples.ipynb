{
 "cells": [
  {
   "cell_type": "markdown",
   "metadata": {},
   "source": [
    "Visualisation examples in Python using the Iris dataset.\n",
    "\n",
    "To run a cell click the cursor into the cell and press shift + enter (or the run button in the tool bar above)\n",
    "\n",
    "If there is a little star next to ln, then the code is still executing. If it finished running a line number will appear:\n",
    "\n",
    "ln[\\*]  - code is being executed\n",
    "\n",
    "ln[1]  - code has finished running"
   ]
  },
  {
   "cell_type": "code",
   "execution_count": null,
   "metadata": {},
   "outputs": [],
   "source": [
    "#Load the required libraries and data\n",
    "import matplotlib.pyplot as plt\n",
    "import seaborn as sns\n",
    "%matplotlib inline\n",
    "df = sns.load_dataset('iris')\n",
    "df.head()"
   ]
  },
  {
   "cell_type": "code",
   "execution_count": null,
   "metadata": {},
   "outputs": [],
   "source": [
    "# creating a scatterplot + points are coloured by 3rd variable\n",
    "g = sns.FacetGrid(df, hue='species', size=7.5) #this sets up the data to be plotted and the color (hue)\n",
    "g.map(plt.scatter, 'petal_length', 'petal_width').add_legend() #this maps the plot to a scatter plot and adds a legend\n",
    "g.ax.set_title('Petal Width v. Length -- by Species') #adding a title"
   ]
  },
  {
   "cell_type": "code",
   "execution_count": null,
   "metadata": {},
   "outputs": [],
   "source": [
    "# facet your plot\n",
    "# simply add the col variable to specify by which variable you want to facet\n",
    "g = sns.FacetGrid(df, col='species', hue='species', size=5)\n",
    "g.map(plt.scatter, 'petal_length', 'petal_width')"
   ]
  },
  {
   "cell_type": "code",
   "execution_count": null,
   "metadata": {},
   "outputs": [],
   "source": [
    "#distributions: boxplot\n",
    "fig, ax = plt.subplots(1, 1, figsize=(10, 10)) # this sets up the layout and size of the plot\n",
    " \n",
    "g = sns.boxplot('species', 'petal_width', data=df, ax=ax) # setting up the boxplot, the ax uses the info from the figure we set up above\n",
    "g.set(title='Distribution of Petal Width by Species') "
   ]
  },
  {
   "cell_type": "code",
   "execution_count": null,
   "metadata": {},
   "outputs": [],
   "source": [
    "#histograms\n",
    "g = sns.FacetGrid(df, hue='species', size=7.5) # setting up data to be plotted\n",
    " \n",
    "g.map(sns.distplot, 'petal_width', bins=10,  \n",
    "      kde=False).add_legend()  # mapping it to a histogram (distribution) and adding a legend, \n",
    "# bin sizes are chosen for each subset independently\n",
    "\n",
    "g.set(xlabel='Petal Width',\n",
    "      ylabel='Frequency',\n",
    "      title='Distribution of Petal Width by Species') # adding user specified labels\n"
   ]
  },
  {
   "cell_type": "code",
   "execution_count": null,
   "metadata": {},
   "outputs": [],
   "source": [
    "# pair plot - quickly see the correlation between all variables\n",
    "sns.pairplot(df, kind=\"scatter\", hue=\"species\", markers=[\"o\", \"s\", \"D\"], palette=\"Set2\")\n",
    "plt.show()"
   ]
  },
  {
   "cell_type": "code",
   "execution_count": null,
   "metadata": {},
   "outputs": [],
   "source": []
  }
 ],
 "metadata": {
  "kernelspec": {
   "display_name": "Python 3",
   "language": "python",
   "name": "python3"
  },
  "language_info": {
   "codemirror_mode": {
    "name": "ipython",
    "version": 3
   },
   "file_extension": ".py",
   "mimetype": "text/x-python",
   "name": "python",
   "nbconvert_exporter": "python",
   "pygments_lexer": "ipython3",
   "version": "3.5.2"
  }
 },
 "nbformat": 4,
 "nbformat_minor": 1
}
